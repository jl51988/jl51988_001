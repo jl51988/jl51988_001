{
 "cells": [
  {
   "cell_type": "code",
   "execution_count": 87,
   "id": "connected-copper",
   "metadata": {},
   "outputs": [],
   "source": [
    "path ='pv.xlsx'\n",
    "import pandas as pd\n",
    "import numpy as np\n",
    "\n",
    "data = pd.read_excel(path)\n",
    "data = data.fillna(' ')\n",
    "\n",
    "unload = data['Type']=='UnLoad'\n",
    "data = data[unload]\n",
    "gy = data['Shift_Name']=='Graveyard'\n",
    "data = data[gy]\n",
    "\n",
    "data.loc[(data['Customer_Name'] != 'WMC'), 'c2'] = data['Customer_Name']\n",
    "data.loc[(data['Customer_Name'] == 'WMC') & (data['ServiceType_Code']=='GLS') & (data['Splits_Qty']*data['Units'] >=120000), 'c2'] = 'WMC GLS DIFF'\n",
    "data.loc[(data['Customer_Name'] == 'WMC') & (data['ServiceType_Code']!='GLS') & (data['Splits_Qty']*data['Units'] >=120000), 'c2'] = 'WMC DIFF'\n",
    "data.loc[(data['Customer_Name'] == 'WMC') & (data['ServiceType_Code']=='GLS') & (data['Splits_Qty']*data['Units'] <120000), 'c2'] = 'WMC GLS'\n",
    "data.loc[(data['Customer_Name'] == 'WMC') & (data['ServiceType_Code']!='GLS') & (data['Splits_Qty']*data['Units'] <120000), 'c2'] = 'WMC'\n",
    "\n",
    "data = data[data['c2'] == 'WMC']\n",
    "\n"
   ]
  },
  {
   "cell_type": "code",
   "execution_count": null,
   "id": "monthly-female",
   "metadata": {},
   "outputs": [],
   "source": []
  }
 ],
 "metadata": {
  "kernelspec": {
   "display_name": "Python 3",
   "language": "python",
   "name": "python3"
  },
  "language_info": {
   "codemirror_mode": {
    "name": "ipython",
    "version": 3
   },
   "file_extension": ".py",
   "mimetype": "text/x-python",
   "name": "python",
   "nbconvert_exporter": "python",
   "pygments_lexer": "ipython3",
   "version": "3.7.10"
  }
 },
 "nbformat": 4,
 "nbformat_minor": 5
}
