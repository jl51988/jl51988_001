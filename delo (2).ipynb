{
 "cells": [
  {
   "cell_type": "code",
   "execution_count": 8,
   "id": "connected-copper",
   "metadata": {},
   "outputs": [
    {
     "data": {
      "text/plain": [
       "Container       PO2         Dpo2        Item       Distro Qty\n",
       "04370599432     1000803297  0000000000  031411065  0             1\n",
       "AIR-WMC-0116-C  0500045378  0800170058  031613987  4             1\n",
       "                                        031613994  4             1\n",
       "AIR-WMC-0201    0850277834  1900370643  031383079  15            1\n",
       "                            8500261897  031383079  42            1\n",
       "                                                                ..\n",
       "ZRC0041467      9600413333  0000000000  030879389  0             1\n",
       "                                        030879489  0             1\n",
       "                                        030879587  0             1\n",
       "                                        030879750  0             1\n",
       "                                        030879820  0             1\n",
       "Length: 24605, dtype: int64"
      ]
     },
     "execution_count": 8,
     "metadata": {},
     "output_type": "execute_result"
    }
   ],
   "source": [
    "path ='rpt.csv'\n",
    "import pandas as pd\n",
    "list1 = ['Facility','Yard Spot','Container','Size','Seal','Stat','BOL','PO','Event','Buyer','InStore Date','850 POD','dept','Type','Item','Total 850','Total 315','PO Qty','Distro Qty',' Rcvd Qty','Avail','DAD','Customs','Distro','DC','Dpo','Dest','Doc Rcvd','Ready','LOS','Alloc','Disp','Vessel','Voy','ETA Orig.','ETA','ATA','LFD','Rail Line','PickUP PIN','Cntr.ETA','Cntr.ATA','Port Departure','Return PIN','Appt.Nmbr','Appt.Date','Berth','curr Dest','Prty','Lst Prty Chngd','In Yard','Empty','Out Gate','Port in EIR','Port In','Non Con','MP','IINQ','CRD','QA','Comment','Hold Reason','Hold Start','Hold End','OBL SCAC','KGS','CBM','Devan Printed','Freight Desc','1','2','3','4','5']\n",
    "data = pd.read_csv(path, dtype=str,names=list1)\n",
    "\n",
    "data = data.fillna('0')\n",
    "data['Dpo2'] = data['Dpo'].str.pad(width=10, side='left', fillchar='0')\n",
    "data['PO2'] = data['PO'].str.pad(width=10, side='left', fillchar='0')\n",
    "#data['Distro Qty'] = data['Distro Qty'].astype(int)\n",
    "\n",
    "gb = data.groupby(['Container','PO2','Dpo2','Item','Distro Qty'])\n",
    "gb.size()\n"
   ]
  },
  {
   "cell_type": "code",
   "execution_count": null,
   "id": "saving-orleans",
   "metadata": {},
   "outputs": [],
   "source": [
    "#data.pivot_table(index=['Container','PO2','Item','Dpo2'],values='Distro Qty')\n"
   ]
  },
  {
   "cell_type": "code",
   "execution_count": null,
   "id": "guilty-better",
   "metadata": {},
   "outputs": [],
   "source": []
  }
 ],
 "metadata": {
  "kernelspec": {
   "display_name": "Python 3",
   "language": "python",
   "name": "python3"
  },
  "language_info": {
   "codemirror_mode": {
    "name": "ipython",
    "version": 3
   },
   "file_extension": ".py",
   "mimetype": "text/x-python",
   "name": "python",
   "nbconvert_exporter": "python",
   "pygments_lexer": "ipython3",
   "version": "3.7.10"
  }
 },
 "nbformat": 4,
 "nbformat_minor": 5
}
