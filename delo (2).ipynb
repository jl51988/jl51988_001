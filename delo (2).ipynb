{
 "cells": [
  {
   "cell_type": "code",
   "execution_count": 45,
   "id": "connected-copper",
   "metadata": {},
   "outputs": [],
   "source": [
    "path ='rpt.csv'\n",
    "import pandas as pd\n",
    "list1 = ['Facility','Yard Spot','Container','Size','Seal','Stat','BOL','PO','Event','Buyer','InStore Date','850 POD','dept','Type','Item','Total 850','Total 315','PO Qty','Distro Qty',' Rcvd Qty','Avail','DAD','Customs','Distro','DC','Dpo','Dest','Doc Rcvd','Ready','LOS','Alloc','Disp','Vessel','Voy','ETA Orig.','ETA','ATA','LFD','Rail Line','PickUP PIN','Cntr.ETA','Cntr.ATA','Port Departure','Return PIN','Appt.Nmbr','Appt.Date','Berth','curr Dest','Prty','Lst Prty Chngd','In Yard','Empty','Out Gate','Port in EIR','Port In','Non Con','MP','IINQ','CRD','QA','Comment','Hold Reason','Hold Start','Hold End','OBL SCAC','KGS','CBM','Devan Printed','Freight Desc','1','2','3','4','5']\n",
    "data = pd.read_csv(path,names=list1,skiprows=1, dtype=str)\n",
    "data = data.fillna(0)\n",
    "data['Distro Qty'] = data['Distro Qty'].astype(int)\n",
    "data['Dpo2'] = data['Dpo'].str.pad(width=10, side='left', fillchar='0')\n",
    "data['PO2'] = data['PO'].str.pad(width=10, side='left', fillchar='0')"
   ]
  },
  {
   "cell_type": "code",
   "execution_count": 47,
   "id": "saving-orleans",
   "metadata": {},
   "outputs": [
    {
     "data": {
      "text/html": [
       "<div>\n",
       "<style scoped>\n",
       "    .dataframe tbody tr th:only-of-type {\n",
       "        vertical-align: middle;\n",
       "    }\n",
       "\n",
       "    .dataframe tbody tr th {\n",
       "        vertical-align: top;\n",
       "    }\n",
       "\n",
       "    .dataframe thead th {\n",
       "        text-align: right;\n",
       "    }\n",
       "</style>\n",
       "<table border=\"1\" class=\"dataframe\">\n",
       "  <thead>\n",
       "    <tr style=\"text-align: right;\">\n",
       "      <th></th>\n",
       "      <th></th>\n",
       "      <th></th>\n",
       "      <th></th>\n",
       "      <th>Distro Qty</th>\n",
       "    </tr>\n",
       "    <tr>\n",
       "      <th>Container</th>\n",
       "      <th>PO2</th>\n",
       "      <th>Item</th>\n",
       "      <th>Dpo2</th>\n",
       "      <th></th>\n",
       "    </tr>\n",
       "  </thead>\n",
       "  <tbody>\n",
       "    <tr>\n",
       "      <th rowspan=\"2\" valign=\"top\">AIR-WMC-0116-C</th>\n",
       "      <th rowspan=\"2\" valign=\"top\">0500045378</th>\n",
       "      <th>031613987</th>\n",
       "      <th>0800170058</th>\n",
       "      <td>4</td>\n",
       "    </tr>\n",
       "    <tr>\n",
       "      <th>031613994</th>\n",
       "      <th>0800170058</th>\n",
       "      <td>4</td>\n",
       "    </tr>\n",
       "    <tr>\n",
       "      <th rowspan=\"2\" valign=\"top\">AIR-WMC-0201</th>\n",
       "      <th rowspan=\"2\" valign=\"top\">0850277834</th>\n",
       "      <th rowspan=\"2\" valign=\"top\">031383079</th>\n",
       "      <th>1900370643</th>\n",
       "      <td>15</td>\n",
       "    </tr>\n",
       "    <tr>\n",
       "      <th>8500261897</th>\n",
       "      <td>42</td>\n",
       "    </tr>\n",
       "    <tr>\n",
       "      <th>AIR-WMC-0201-2</th>\n",
       "      <th>6850339307</th>\n",
       "      <th>031631543</th>\n",
       "      <th>4800170440</th>\n",
       "      <td>89</td>\n",
       "    </tr>\n",
       "    <tr>\n",
       "      <th>...</th>\n",
       "      <th>...</th>\n",
       "      <th>...</th>\n",
       "      <th>...</th>\n",
       "      <td>...</td>\n",
       "    </tr>\n",
       "    <tr>\n",
       "      <th rowspan=\"2\" valign=\"top\">YMMU4176382</th>\n",
       "      <th rowspan=\"2\" valign=\"top\">8850525066</th>\n",
       "      <th rowspan=\"2\" valign=\"top\">030212169</th>\n",
       "      <th>7000435212</th>\n",
       "      <td>34</td>\n",
       "    </tr>\n",
       "    <tr>\n",
       "      <th>9600560633</th>\n",
       "      <td>34</td>\n",
       "    </tr>\n",
       "    <tr>\n",
       "      <th>YMMU6081075</th>\n",
       "      <th>6950404201</th>\n",
       "      <th>030096500</th>\n",
       "      <th>6950404835</th>\n",
       "      <td>381</td>\n",
       "    </tr>\n",
       "    <tr>\n",
       "      <th rowspan=\"2\" valign=\"top\">YMMU6083822</th>\n",
       "      <th rowspan=\"2\" valign=\"top\">6950404201</th>\n",
       "      <th rowspan=\"2\" valign=\"top\">030096500</th>\n",
       "      <th>6950404835</th>\n",
       "      <td>19</td>\n",
       "    </tr>\n",
       "    <tr>\n",
       "      <th>6950404836</th>\n",
       "      <td>362</td>\n",
       "    </tr>\n",
       "  </tbody>\n",
       "</table>\n",
       "<p>12989 rows × 1 columns</p>\n",
       "</div>"
      ],
      "text/plain": [
       "                                                Distro Qty\n",
       "Container      PO2        Item      Dpo2                  \n",
       "AIR-WMC-0116-C 0500045378 031613987 0800170058           4\n",
       "                          031613994 0800170058           4\n",
       "AIR-WMC-0201   0850277834 031383079 1900370643          15\n",
       "                                    8500261897          42\n",
       "AIR-WMC-0201-2 6850339307 031631543 4800170440          89\n",
       "...                                                    ...\n",
       "YMMU4176382    8850525066 030212169 7000435212          34\n",
       "                                    9600560633          34\n",
       "YMMU6081075    6950404201 030096500 6950404835         381\n",
       "YMMU6083822    6950404201 030096500 6950404835          19\n",
       "                                    6950404836         362\n",
       "\n",
       "[12989 rows x 1 columns]"
      ]
     },
     "execution_count": 47,
     "metadata": {},
     "output_type": "execute_result"
    }
   ],
   "source": [
    "data.pivot_table(index=['Container','PO2','Item','Dpo2'], values='Distro Qty')\n"
   ]
  },
  {
   "cell_type": "code",
   "execution_count": 46,
   "id": "bottom-combat",
   "metadata": {},
   "outputs": [
    {
     "data": {
      "text/plain": [
       "Container       PO2         Dpo2        Item       Distro Qty\n",
       "AIR-WMC-0116-C  0500045378  0800170058  031613987  4             1\n",
       "                                        031613994  4             1\n",
       "AIR-WMC-0201    0850277834  1900370643  031383079  15            1\n",
       "                            8500261897  031383079  42            1\n",
       "AIR-WMC-0201-2  6850339307  4800170440  031631543  89            1\n",
       "                                                                ..\n",
       "YMMU4176382     8850525066  7000435212  030212169  34            1\n",
       "                            9600560633  030212169  34            1\n",
       "YMMU6081075     6950404201  6950404835  030096500  381           1\n",
       "YMMU6083822     6950404201  6950404835  030096500  19            1\n",
       "                            6950404836  030096500  362           1\n",
       "Length: 12989, dtype: int64"
      ]
     },
     "execution_count": 46,
     "metadata": {},
     "output_type": "execute_result"
    }
   ],
   "source": [
    "#data['Dpo'] = data['Dpo'].astype(str)\n",
    "#data['PO'] = data['PO'].astype(str)\n",
    "\n",
    "\n",
    "gb = data.groupby(['Container','PO2','Dpo2','Item','Distro Qty'])\n",
    "xc = gb.size()\n",
    "#xc.to_excel('asd.xlsx')\n",
    "xc"
   ]
  },
  {
   "cell_type": "code",
   "execution_count": null,
   "id": "artistic-fetish",
   "metadata": {},
   "outputs": [],
   "source": []
  }
 ],
 "metadata": {
  "kernelspec": {
   "display_name": "Python 3",
   "language": "python",
   "name": "python3"
  },
  "language_info": {
   "codemirror_mode": {
    "name": "ipython",
    "version": 3
   },
   "file_extension": ".py",
   "mimetype": "text/x-python",
   "name": "python",
   "nbconvert_exporter": "python",
   "pygments_lexer": "ipython3",
   "version": "3.7.10"
  }
 },
 "nbformat": 4,
 "nbformat_minor": 5
}
