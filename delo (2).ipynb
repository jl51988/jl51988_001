{
 "cells": [
  {
   "cell_type": "code",
   "execution_count": 10,
   "id": "connected-copper",
   "metadata": {},
   "outputs": [],
   "source": [
    "path ='rpt.csv'\n",
    "import pandas as pd\n",
    "pd.set_option('display.max_rows', None)\n",
    "list1 = ['Facility','Yard Spot','Container','Size','Seal','Stat','BOL','PO','Event','Buyer','InStore Date','850 POD','dept','Type','Item','Total 850','Total 315','PO Qty','Distro Qty',' Rcvd Qty','Avail','DAD','Customs','Distro','DC','Dpo','Dest','Doc Rcvd','Ready','LOS','Alloc','Disp','Vessel','Voy','ETA Orig.','ETA','ATA','LFD','Rail Line','PickUP PIN','Cntr.ETA','Cntr.ATA','Port Departure','Return PIN','Appt.Nmbr','Appt.Date','Berth','curr Dest','Prty','Lst Prty Chngd','In Yard','Empty','Out Gate','Port in EIR','Port In','Non Con','MP','IINQ','CRD','QA','Comment','Hold Reason','Hold Start','Hold End','OBL SCAC','KGS','CBM','Devan Printed','Freight Desc','1','2','3','4','5']\n",
    "data = pd.read_csv(path,names=list1,skiprows=1, dtype=str)\n",
    "data = data.fillna('0')\n",
    "data['Distro Qty'] = data['Distro Qty'].astype(int)\n",
    "data['Dpo2'] = data['Dpo'].str.pad(width=10, side='left', fillchar='0')\n",
    "data['PO2'] = data['PO'].str.pad(width=10, side='left', fillchar='0')\n",
    "data['Dpo2'] = data['Dpo2'].str.replace('0000000000','dont',regex=True)\n",
    "#data[0:1]"
   ]
  },
  {
   "cell_type": "code",
   "execution_count": null,
   "id": "bottom-combat",
   "metadata": {},
   "outputs": [],
   "source": [
    "#data['Dpo'] = data['Dpo'].astype(str)\n",
    "#data['PO'] = data['PO'].astype(str)\n",
    "\n",
    "\n",
    "gb = data.groupby(['Container','PO2','Dpo2','Item','Distro Qty'])\n",
    "xc = gb.size()\n",
    "xc = xc.apply(str)\n",
    "xc\n",
    "#xc.to_csv('asd.csv')"
   ]
  },
  {
   "cell_type": "code",
   "execution_count": 17,
   "id": "saving-orleans",
   "metadata": {},
   "outputs": [
    {
     "name": "stdout",
     "output_type": "stream",
     "text": [
      "aphu6955\n"
     ]
    },
    {
     "data": {
      "text/html": [
       "<div>\n",
       "<style scoped>\n",
       "    .dataframe tbody tr th:only-of-type {\n",
       "        vertical-align: middle;\n",
       "    }\n",
       "\n",
       "    .dataframe tbody tr th {\n",
       "        vertical-align: top;\n",
       "    }\n",
       "\n",
       "    .dataframe thead th {\n",
       "        text-align: right;\n",
       "    }\n",
       "</style>\n",
       "<table border=\"1\" class=\"dataframe\">\n",
       "  <thead>\n",
       "    <tr style=\"text-align: right;\">\n",
       "      <th></th>\n",
       "      <th></th>\n",
       "      <th></th>\n",
       "      <th></th>\n",
       "      <th>Distro Qty</th>\n",
       "    </tr>\n",
       "    <tr>\n",
       "      <th>Container</th>\n",
       "      <th>PO2</th>\n",
       "      <th>Item</th>\n",
       "      <th>Dpo2</th>\n",
       "      <th></th>\n",
       "    </tr>\n",
       "  </thead>\n",
       "  <tbody>\n",
       "    <tr>\n",
       "      <th rowspan=\"3\" valign=\"top\">APHU6955626</th>\n",
       "      <th rowspan=\"3\" valign=\"top\">4500959112</th>\n",
       "      <th>030255748</th>\n",
       "      <th>4050593200</th>\n",
       "      <td>279</td>\n",
       "    </tr>\n",
       "    <tr>\n",
       "      <th rowspan=\"2\" valign=\"top\">030255749</th>\n",
       "      <th>4050593200</th>\n",
       "      <td>6</td>\n",
       "    </tr>\n",
       "    <tr>\n",
       "      <th>4050593201</th>\n",
       "      <td>9</td>\n",
       "    </tr>\n",
       "  </tbody>\n",
       "</table>\n",
       "</div>"
      ],
      "text/plain": [
       "                                             Distro Qty\n",
       "Container   PO2        Item      Dpo2                  \n",
       "APHU6955626 4500959112 030255748 4050593200         279\n",
       "                       030255749 4050593200           6\n",
       "                                 4050593201           9"
      ]
     },
     "execution_count": 17,
     "metadata": {},
     "output_type": "execute_result"
    }
   ],
   "source": [
    "#input() APHU6955626\n",
    "\n",
    "data[data['Container'].str.contains(input(), case=False)].pivot_table(index=['Container','PO2','Item','Dpo2'], values='Distro Qty')\n"
   ]
  },
  {
   "cell_type": "code",
   "execution_count": null,
   "id": "green-webmaster",
   "metadata": {},
   "outputs": [],
   "source": []
  }
 ],
 "metadata": {
  "kernelspec": {
   "display_name": "Python 3",
   "language": "python",
   "name": "python3"
  },
  "language_info": {
   "codemirror_mode": {
    "name": "ipython",
    "version": 3
   },
   "file_extension": ".py",
   "mimetype": "text/x-python",
   "name": "python",
   "nbconvert_exporter": "python",
   "pygments_lexer": "ipython3",
   "version": "3.7.10"
  }
 },
 "nbformat": 4,
 "nbformat_minor": 5
}
