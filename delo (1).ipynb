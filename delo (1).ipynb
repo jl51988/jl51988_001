{
 "cells": [
  {
   "cell_type": "code",
   "execution_count": 4,
   "id": "mediterranean-protest",
   "metadata": {},
   "outputs": [],
   "source": [
    "path ='/home/jovyan/1_govt_urls_full.csv'\n",
    "records = [line for line in open(path)]\n",
    "\n",
    "import pandas as pd\n",
    "data = pd.read_csv('1_govt_urls_full.csv')\n",
    "data.fillna('nana')\n",
    "data\n",
    "\n",
    "data.to_csv('lol.csv')"
   ]
  },
  {
   "cell_type": "code",
   "execution_count": null,
   "id": "sweet-kelly",
   "metadata": {},
   "outputs": [],
   "source": []
  }
 ],
 "metadata": {
  "kernelspec": {
   "display_name": "Python 3",
   "language": "python",
   "name": "python3"
  },
  "language_info": {
   "codemirror_mode": {
    "name": "ipython",
    "version": 3
   },
   "file_extension": ".py",
   "mimetype": "text/x-python",
   "name": "python",
   "nbconvert_exporter": "python",
   "pygments_lexer": "ipython3",
   "version": "3.7.10"
  }
 },
 "nbformat": 4,
 "nbformat_minor": 5
}
