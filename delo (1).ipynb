{
 "cells": [
  {
   "cell_type": "code",
   "execution_count": 1,
   "id": "mediterranean-protest",
   "metadata": {},
   "outputs": [
    {
     "data": {
      "text/plain": [
       "'{ \"a\": \"Mozilla\\\\/5.0 (Linux; U; Android 4.1.2; en-us; HTC_PN071 Build\\\\/JZO54K) AppleWebKit\\\\/534.30 (KHTML, like Gecko) Version\\\\/4.0 Mobile Safari\\\\/534.30\", \"c\": \"US\", \"nk\": 0, \"tz\": \"America\\\\/Los_Angeles\", \"gr\": \"CA\", \"g\": \"15r91\", \"h\": \"10OBm3W\", \"l\": \"pontifier\", \"al\": \"en-US\", \"hh\": \"j.mp\", \"r\": \"direct\", \"u\": \"http:\\\\/\\\\/www.nsa.gov\\\\/\", \"t\": 1368832205, \"hc\": 1365701422, \"cy\": \"Anaheim\", \"ll\": [ 33.816101, -117.979401 ] }\\n'"
      ]
     },
     "execution_count": 1,
     "metadata": {},
     "output_type": "execute_result"
    }
   ],
   "source": [
    "path = 'usag.txt'\n",
    "open(path).readline()"
   ]
  },
  {
   "cell_type": "code",
   "execution_count": 2,
   "id": "sweet-kelly",
   "metadata": {},
   "outputs": [
    {
     "data": {
      "text/plain": [
       "{'a': 'Mozilla/5.0 (Linux; U; Android 4.1.2; en-us; HTC_PN071 Build/JZO54K) AppleWebKit/534.30 (KHTML, like Gecko) Version/4.0 Mobile Safari/534.30',\n",
       " 'c': 'US',\n",
       " 'nk': 0,\n",
       " 'tz': 'America/Los_Angeles',\n",
       " 'gr': 'CA',\n",
       " 'g': '15r91',\n",
       " 'h': '10OBm3W',\n",
       " 'l': 'pontifier',\n",
       " 'al': 'en-US',\n",
       " 'hh': 'j.mp',\n",
       " 'r': 'direct',\n",
       " 'u': 'http://www.nsa.gov/',\n",
       " 't': 1368832205,\n",
       " 'hc': 1365701422,\n",
       " 'cy': 'Anaheim',\n",
       " 'll': [33.816101, -117.979401]}"
      ]
     },
     "execution_count": 2,
     "metadata": {},
     "output_type": "execute_result"
    }
   ],
   "source": [
    "import json\n",
    "records = [json.loads(line) for line in open(path)]\n",
    "records[0]"
   ]
  },
  {
   "cell_type": "code",
   "execution_count": 3,
   "id": "novel-dubai",
   "metadata": {},
   "outputs": [
    {
     "name": "stdout",
     "output_type": "stream",
     "text": [
      "America/Los_Angeles\n"
     ]
    }
   ],
   "source": [
    "print (records[0]['tz'])"
   ]
  },
  {
   "cell_type": "code",
   "execution_count": 4,
   "id": "organizational-overall",
   "metadata": {},
   "outputs": [
    {
     "data": {
      "text/plain": [
       "['America/Los_Angeles',\n",
       " '',\n",
       " 'America/Phoenix',\n",
       " 'America/Chicago',\n",
       " '',\n",
       " 'America/Indianapolis',\n",
       " 'America/Chicago',\n",
       " '',\n",
       " 'Australia/NSW',\n",
       " '']"
      ]
     },
     "execution_count": 4,
     "metadata": {},
     "output_type": "execute_result"
    }
   ],
   "source": [
    "#time_zones = [rec['tz'] for rec in records] NOT ALL RECORDS HAVE TZ FIELD!\n",
    "time_zones = [rec['tz'] for rec in records if 'tz' in rec] #ADD IF\n",
    "time_zones[:10]"
   ]
  },
  {
   "cell_type": "code",
   "execution_count": 5,
   "id": "postal-numbers",
   "metadata": {},
   "outputs": [
    {
     "data": {
      "text/plain": [
       "421"
      ]
     },
     "execution_count": 5,
     "metadata": {},
     "output_type": "execute_result"
    }
   ],
   "source": [
    "#python function\n",
    "def get_counts(sequence):\n",
    "    counts = {}\n",
    "    for x in sequence:\n",
    "        if x in counts:\n",
    "            counts[x] += 1\n",
    "        else:\n",
    "            counts[x] =1\n",
    "    return counts\n",
    "\n",
    "#pass time_zones list to function\n",
    "counts = get_counts(time_zones)\n",
    "counts['America/Los_Angeles']"
   ]
  },
  {
   "cell_type": "code",
   "execution_count": 6,
   "id": "published-barrel",
   "metadata": {},
   "outputs": [
    {
     "data": {
      "text/plain": [
       "3839"
      ]
     },
     "execution_count": 6,
     "metadata": {},
     "output_type": "execute_result"
    }
   ],
   "source": [
    "len(time_zones)"
   ]
  },
  {
   "cell_type": "code",
   "execution_count": 7,
   "id": "sporting-filing",
   "metadata": {},
   "outputs": [
    {
     "data": {
      "text/plain": [
       "[(40, 'America/Phoenix'),\n",
       " (50, 'America/Indianapolis'),\n",
       " (85, 'Europe/London'),\n",
       " (89, 'America/Denver'),\n",
       " (102, 'Asia/Tokyo'),\n",
       " (184, 'America/Puerto_Rico'),\n",
       " (421, 'America/Los_Angeles'),\n",
       " (636, ''),\n",
       " (686, 'America/Chicago'),\n",
       " (903, 'America/New_York')]"
      ]
     },
     "execution_count": 7,
     "metadata": {},
     "output_type": "execute_result"
    }
   ],
   "source": [
    "#dictionary for top counts\n",
    "def top_counts(count_dict, n=10):\n",
    "    value_key_pairs = [(count, tz) for tz, count in count_dict.items()]\n",
    "    value_key_pairs.sort()\n",
    "    return value_key_pairs[-n:]\n",
    "\n",
    "top_counts(counts)"
   ]
  },
  {
   "cell_type": "code",
   "execution_count": 8,
   "id": "worst-kitty",
   "metadata": {},
   "outputs": [
    {
     "data": {
      "text/plain": [
       "America/New_York        903\n",
       "America/Chicago         686\n",
       "Unknown                 636\n",
       "America/Los_Angeles     421\n",
       "America/Puerto_Rico     184\n",
       "Missing                 120\n",
       "Asia/Tokyo              102\n",
       "America/Denver           89\n",
       "Europe/London            85\n",
       "America/Indianapolis     50\n",
       "Name: tz, dtype: int64"
      ]
     },
     "execution_count": 8,
     "metadata": {},
     "output_type": "execute_result"
    }
   ],
   "source": [
    "from pandas import DataFrame, Series\n",
    "import pandas as pd\n",
    "frame = DataFrame(records)\n",
    "\n",
    "tz_counts = frame['tz'].value_counts()\n",
    "tz_counts[:10]\n",
    "\n",
    "clean_tz = frame['tz'].fillna('Missing')\n",
    "clean_tz[clean_tz == ''] = 'Unknown'\n",
    "tz_counts = clean_tz.value_counts()\n",
    "tz_counts[:10]"
   ]
  },
  {
   "cell_type": "code",
   "execution_count": 9,
   "id": "superb-triple",
   "metadata": {},
   "outputs": [
    {
     "data": {
      "text/plain": [
       "<AxesSubplot:>"
      ]
     },
     "execution_count": 9,
     "metadata": {},
     "output_type": "execute_result"
    },
    {
     "data": {
      "image/png": "[encoded data removed]",
      "text/plain": [
       "<Figure size 432x288 with 1 Axes>"
      ]
     },
     "metadata": {
      "needs_background": "light"
     },
     "output_type": "display_data"
    }
   ],
   "source": [
    "tz_counts[:10].plot(kind='barh', rot=0)"
   ]
  },
  {
   "cell_type": "code",
   "execution_count": null,
   "id": "hazardous-mistake",
   "metadata": {},
   "outputs": [],
   "source": []
  }
 ],
 "metadata": {
  "kernelspec": {
   "display_name": "Python 3",
   "language": "python",
   "name": "python3"
  },
  "language_info": {
   "codemirror_mode": {
    "name": "ipython",
    "version": 3
   },
   "file_extension": ".py",
   "mimetype": "text/x-python",
   "name": "python",
   "nbconvert_exporter": "python",
   "pygments_lexer": "ipython3",
   "version": "3.7.10"
  }
 },
 "nbformat": 4,
 "nbformat_minor": 5
}
